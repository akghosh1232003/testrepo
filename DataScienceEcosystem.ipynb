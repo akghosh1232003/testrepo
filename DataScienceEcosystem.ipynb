{
 "cells": [
  {
   "cell_type": "markdown",
   "metadata": {},
   "source": [
    "<center>\n",
    "    <img src=\"https://cf-courses-data.s3.us.cloud-object-storage.appdomain.cloud/IBMDeveloperSkillsNetwork-DS0105EN-SkillsNetwork/labs/Module2/images/SN_web_lightmode.png\" width=\"300\" alt=\"cognitiveclass.ai logo\">\n",
    "</center>\n"
   ]
  },
  {
   "cell_type": "markdown",
   "metadata": {},
   "source": [
    "#### Add your code below following the instructions given in the course\n"
   ]
  },
  {
   "cell_type": "markdown",
   "metadata": {},
   "source": [
    "# Data Science Tools and Ecosystem"
   ]
  },
  {
   "cell_type": "markdown",
   "metadata": {},
   "source": [
    "# Introduction\n",
    "\n",
    "In this notebook, Data Science Tools and Ecosystem are summarized.\n"
   ]
  },
  {
   "cell_type": "markdown",
   "metadata": {
    "tags": []
   },
   "source": [
    "Some of the popular languages that Data Scientists use are:\n",
    "\n",
    "1. **Python**\n",
    "2. **R**\n",
    "3. **SQL**\n",
    "4. **Julia**\n",
    "5. **Java**\n",
    "6. **Scala**\n",
    "7. **MATLAB**"
   ]
  },
  {
   "cell_type": "markdown",
   "metadata": {},
   "source": [
    "# Some of the commonly used libraries used by Data Scientists include:\n",
    "\n",
    "## Python Libraries\n",
    "- Pandas\n",
    "- NumPy\n",
    "- Matplotlib\n",
    "- Seaborn\n",
    "- Scikit-learn\n",
    "- TensorFlow\n",
    "- Keras\n",
    "\n",
    "## R Libraries\n",
    "- ggplot2\n",
    "- dplyr\n",
    "- caret\n",
    "\n",
    "## Julia Libraries\n",
    "- DataFrames.jl\n",
    "- Plots.jl"
   ]
  },
  {
   "cell_type": "markdown",
   "metadata": {},
   "source": [
    "# Data Science Tools\n",
    "\n",
    "| Tool          | Type                  |\n",
    "|---------------|-----------------------|\n",
    "| Jupyter       | Notebook               |\n",
    "| RStudio       | IDE for R             |\n",
    "| Anaconda      | Package Manager        |\n",
    "| Tableau       | Data Visualization     |\n",
    "| Apache Spark  | Big Data Processing    |\n",
    "| TensorFlow    | Machine Learning       |\n",
    "| Power BI      | Business Intelligence   |\n",
    "| GitHub        | Version Control        |\n",
    "| Excel         | Spreadsheet Software   |\n",
    "| Google Colab  | Cloud-based Notebook   |"
   ]
  },
  {
   "cell_type": "markdown",
   "metadata": {},
   "source": [
    "# Below are a few examples of evaluating arithmetic expressions in Python\n",
    "\n",
    "In this section, we will explore various arithmetic expressions commonly used in programming and data analysis. Arithmetic expressions involve basic mathematical operations that are essential for performing calculations on numerical data.\n",
    "\n",
    "The primary arithmetic operations include:\n",
    "\n",
    "- **Addition (+)**: Summing two or more numbers.\n",
    "- **Subtraction (-)**: Finding the difference between two numbers.\n",
    "- **Multiplication (*)**: Calculating the product of two or more numbers.\n",
    "- **Division (/)**: Determining how many times one number is contained within another.\n",
    "\n",
    "Below are some examples of these arithmetic expressions:\n",
    "\n",
    "1. Addition: `5 + 3 = 8`\n",
    "2. Subtraction: `10 - 4 = 6`\n",
    "3. Multiplication: `7 * 2 = 14`\n",
    "4. Division: `20 / 5 = 4`\n",
    "\n",
    "These basic operations form the foundation for more complex calculations and are widely used in data analysis and programming tasks."
   ]
  },
  {
   "cell_type": "code",
   "execution_count": 5,
   "metadata": {
    "tags": []
   },
   "outputs": [
    {
     "name": "stdout",
     "output_type": "stream",
     "text": [
      "17\n"
     ]
    }
   ],
   "source": [
    "# This is a simple arithmetic expression to multiply then add integers.\n",
    "result = (3 * 4) + 5\n",
    "\n",
    "# Print the result\n",
    "print(result)"
   ]
  },
  {
   "cell_type": "code",
   "execution_count": 6,
   "metadata": {
    "tags": []
   },
   "outputs": [
    {
     "name": "stdout",
     "output_type": "stream",
     "text": [
      "200 minutes is equal to 3.3333333333333335 hours.\n"
     ]
    }
   ],
   "source": [
    "# This will convert 200 minutes to hours by dividing by 60.\n",
    "minutes = 200\n",
    "hours = minutes / 60\n",
    "\n",
    "# Print the result\n",
    "print(f\"{minutes} minutes is equal to {hours} hours.\")\n"
   ]
  },
  {
   "cell_type": "markdown",
   "metadata": {},
   "source": [
    "**Objectives:**\n",
    "\n",
    "- List popular languages for Data Science.\n",
    "- Explore various data science libraries and their uses.\n",
    "- Understand essential tools and ecosystems in data science.\n",
    "- Perform basic arithmetic operations relevant to data analysis.\n",
    "- Learn to convert time units in programming."
   ]
  },
  {
   "cell_type": "markdown",
   "metadata": {
    "tags": []
   },
   "source": [
    "## Author\n",
    "\n",
    "Anup Ghosh"
   ]
  },
  {
   "cell_type": "code",
   "execution_count": null,
   "metadata": {},
   "outputs": [],
   "source": []
  }
 ],
 "metadata": {
  "kernelspec": {
   "display_name": "Python",
   "language": "python",
   "name": "conda-env-python-py"
  },
  "language_info": {
   "codemirror_mode": {
    "name": "ipython",
    "version": 3
   },
   "file_extension": ".py",
   "mimetype": "text/x-python",
   "name": "python",
   "nbconvert_exporter": "python",
   "pygments_lexer": "ipython3",
   "version": "3.7.12"
  }
 },
 "nbformat": 4,
 "nbformat_minor": 4
}
